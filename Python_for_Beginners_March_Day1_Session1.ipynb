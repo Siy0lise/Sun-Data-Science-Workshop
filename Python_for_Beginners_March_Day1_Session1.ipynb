{
  "nbformat": 4,
  "nbformat_minor": 0,
  "metadata": {
    "colab": {
      "provenance": [],
      "include_colab_link": true
    },
    "kernelspec": {
      "name": "python3",
      "display_name": "Python 3"
    },
    "language_info": {
      "name": "python"
    }
  },
  "cells": [
    {
      "cell_type": "markdown",
      "metadata": {
        "id": "view-in-github",
        "colab_type": "text"
      },
      "source": [
        "<a href=\"https://colab.research.google.com/github/Siy0lise/Sun-Data-Science-Workshop/blob/main/Python_for_Beginners_March_Day1_Session1.ipynb\" target=\"_parent\"><img src=\"https://colab.research.google.com/assets/colab-badge.svg\" alt=\"Open In Colab\"/></a>"
      ]
    },
    {
      "cell_type": "code",
      "execution_count": 1,
      "metadata": {
        "id": "eRYsqu8wndGg"
      },
      "outputs": [],
      "source": [
        "#These are libraries that you should import if needed for your notebook.\n",
        "#import libraries\n",
        "#from datascience import *\n",
        "import pandas as pd\n",
        "import seaborn as sns\n",
        "import numpy as np\n",
        "%matplotlib inline\n",
        "import matplotlib.pyplot as plots\n",
        "plots.style.use('fivethirtyeight')"
      ]
    },
    {
      "cell_type": "markdown",
      "source": [
        "# Basics\n",
        "\n",
        "Built-in Data Types\n",
        "In programming, data type is an important concept.\n",
        "\n",
        "Variables can store data of different types, and different types can do different things.\n",
        "\n",
        "Python has the following data types built-in by default, in these categories:\n",
        "\n",
        "\n",
        "*  Text or string Type:\t  str\n",
        "   *  Much of the world’s data is text, and a piece of text represented in a computer is called a string. A string can represent a word, a sentence, or even the contents of every book in a library.\n",
        "*  Numeric Types:\tint, float, complex\n",
        "   *  Integers are called int values in the Python language. They can only represent whole numbers (negative, zero, or positive) that don’t have a fractional component\n",
        "   * Real numbers are called float values (or floating point values) in the Python language. They can represent whole or fractional numbers but have some limitations.\n",
        "*  Sequence Types:\tlist, tuple, range\n",
        "   * Values can be grouped together into collections, which allows programmers to organize those values and refer to all of them with a single name. By grouping values together, we can write code that performs a computation on many pieces of data at once.\n",
        "*  Mapping Type:\tdict\n",
        "*  Set Types:\t  set, frozenset\n",
        "*  Boolean Type:\t  bool"
      ],
      "metadata": {
        "id": "Y3wIh8uynglk"
      }
    },
    {
      "cell_type": "code",
      "source": [],
      "metadata": {
        "id": "W8EL8iR5nsRj"
      },
      "execution_count": null,
      "outputs": []
    },
    {
      "cell_type": "markdown",
      "source": [
        "## Operations\n",
        "\n",
        "Python operators are special symbols (sometimes called keywords) that are used to perform certain most commonly required operations on one or more operands (value, variables, or expressions).\n",
        "\n",
        "Python language supports the following types of operators:\n",
        "\n",
        "* Arithmetic Operators\n",
        "\n",
        "* Comparison (Relational) Operators\n",
        "\n",
        "* Assignment Operators\n",
        "\n",
        "* Logical Operators\n",
        "\n",
        "* Bitwise Operators\n",
        "\n",
        "* Membership Operators\n",
        "\n",
        "* Identity Operators"
      ],
      "metadata": {
        "id": "O7bAREPLn0o7"
      }
    },
    {
      "cell_type": "code",
      "source": [
        "#Print Hello World\n",
        "print(\"Hello World\")"
      ],
      "metadata": {
        "id": "zSRaHiHin2wb",
        "colab": {
          "base_uri": "https://localhost:8080/"
        },
        "outputId": "7da85c4f-8e16-48f7-8dfb-35ba4d1aa54c"
      },
      "execution_count": 2,
      "outputs": [
        {
          "output_type": "stream",
          "name": "stdout",
          "text": [
            "Hello World\n"
          ]
        }
      ]
    },
    {
      "cell_type": "code",
      "source": [
        "\"This is the data school\""
      ],
      "metadata": {
        "colab": {
          "base_uri": "https://localhost:8080/",
          "height": 36
        },
        "id": "WHA-q62oWdtI",
        "outputId": "7cd35d02-1ce5-4329-a9b5-d638f99ca409"
      },
      "execution_count": 20,
      "outputs": [
        {
          "output_type": "execute_result",
          "data": {
            "text/plain": [
              "'This is the data school'"
            ],
            "application/vnd.google.colaboratory.intrinsic+json": {
              "type": "string"
            }
          },
          "metadata": {},
          "execution_count": 20
        }
      ]
    },
    {
      "cell_type": "code",
      "source": [
        "#Print a number\n",
        "1"
      ],
      "metadata": {
        "id": "P7IDQ2GRn_tT",
        "colab": {
          "base_uri": "https://localhost:8080/"
        },
        "outputId": "4f4134e7-50a6-4d34-fcde-172fcd7059b9"
      },
      "execution_count": 10,
      "outputs": [
        {
          "output_type": "execute_result",
          "data": {
            "text/plain": [
              "1"
            ]
          },
          "metadata": {},
          "execution_count": 10
        }
      ]
    },
    {
      "cell_type": "code",
      "source": [
        "#Add two numbers\n",
        "1+2\n"
      ],
      "metadata": {
        "id": "XZmHvtzGoBY0",
        "colab": {
          "base_uri": "https://localhost:8080/"
        },
        "outputId": "37877b27-f9cf-47c0-c730-00323fd70ca0"
      },
      "execution_count": 11,
      "outputs": [
        {
          "output_type": "execute_result",
          "data": {
            "text/plain": [
              "3"
            ]
          },
          "metadata": {},
          "execution_count": 11
        }
      ]
    },
    {
      "cell_type": "code",
      "source": [
        "#Subtract one number from another\n",
        "1-2"
      ],
      "metadata": {
        "id": "DcZx48THo_MN",
        "colab": {
          "base_uri": "https://localhost:8080/"
        },
        "outputId": "0bec3da9-6afa-4c1d-d07e-06d7476c051d"
      },
      "execution_count": 12,
      "outputs": [
        {
          "output_type": "execute_result",
          "data": {
            "text/plain": [
              "-1"
            ]
          },
          "metadata": {},
          "execution_count": 12
        }
      ]
    },
    {
      "cell_type": "code",
      "source": [
        "#Multiply two numbers\n",
        "10*10"
      ],
      "metadata": {
        "id": "7coeKvqVpHLT",
        "colab": {
          "base_uri": "https://localhost:8080/"
        },
        "outputId": "7a989cb1-8d41-461f-e6c0-a7e3b8bd630d"
      },
      "execution_count": 18,
      "outputs": [
        {
          "output_type": "execute_result",
          "data": {
            "text/plain": [
              "100"
            ]
          },
          "metadata": {},
          "execution_count": 18
        }
      ]
    },
    {
      "cell_type": "code",
      "source": [
        "#Multiply two numbers\n",
        "50*2"
      ],
      "metadata": {
        "id": "3ihwd5L9pLAM",
        "colab": {
          "base_uri": "https://localhost:8080/"
        },
        "outputId": "297ff164-600e-47ef-d274-a88c9301ea0c"
      },
      "execution_count": 17,
      "outputs": [
        {
          "output_type": "execute_result",
          "data": {
            "text/plain": [
              "100"
            ]
          },
          "metadata": {},
          "execution_count": 17
        }
      ]
    },
    {
      "cell_type": "code",
      "source": [
        "#Divide one number by another\n",
        "100/2"
      ],
      "metadata": {
        "id": "wVyY2wHypPb8",
        "colab": {
          "base_uri": "https://localhost:8080/"
        },
        "outputId": "97fb0e43-d0c4-46c8-c061-41c18aec3ddc"
      },
      "execution_count": 16,
      "outputs": [
        {
          "output_type": "execute_result",
          "data": {
            "text/plain": [
              "50.0"
            ]
          },
          "metadata": {},
          "execution_count": 16
        }
      ]
    },
    {
      "cell_type": "code",
      "source": [
        "#Calculate 2 to the power of 3\n",
        "2**3"
      ],
      "metadata": {
        "id": "x4SNm3JqpV0s",
        "colab": {
          "base_uri": "https://localhost:8080/"
        },
        "outputId": "8f413e3b-ddaa-4010-e475-5abf62f0c8ca"
      },
      "execution_count": 19,
      "outputs": [
        {
          "output_type": "execute_result",
          "data": {
            "text/plain": [
              "8"
            ]
          },
          "metadata": {},
          "execution_count": 19
        }
      ]
    },
    {
      "cell_type": "markdown",
      "source": [
        "## Variables\n",
        "\n",
        "Variables are containers for storing data values. Unlike other languages, such as Java, Python has no command for declaring a variable, so you create one the moment you first assign a value to it.\n",
        "\n",
        "* A variable name must start with a letter or the underscore character\n",
        "* A variable name cannot start with a number\n",
        "* A variable name can only contain alpha-numeric characters and underscores (A-z, 0-9, and _ )\n",
        "* Variable names are case-sensitive (age, Age and AGE are three different variables)\n",
        "* A variable name cannot be any of the Python keywords."
      ],
      "metadata": {
        "id": "T_92SRSLpejr"
      }
    },
    {
      "cell_type": "code",
      "source": [
        "#Store the value of 5 in variable a.\n",
        "a = 5"
      ],
      "metadata": {
        "id": "5ZC4JPSYpgZc"
      },
      "execution_count": 21,
      "outputs": []
    },
    {
      "cell_type": "code",
      "source": [
        "#What is the value of  variable a\n",
        "a"
      ],
      "metadata": {
        "id": "B4CXO0UupmYM",
        "colab": {
          "base_uri": "https://localhost:8080/"
        },
        "outputId": "a54894bd-b867-4916-ee03-184912559a90"
      },
      "execution_count": 23,
      "outputs": [
        {
          "output_type": "execute_result",
          "data": {
            "text/plain": [
              "5"
            ]
          },
          "metadata": {},
          "execution_count": 23
        }
      ]
    },
    {
      "cell_type": "code",
      "source": [
        "#Multiply variable a by another number\n",
        "a*2"
      ],
      "metadata": {
        "id": "G_TiDVl7pqML",
        "colab": {
          "base_uri": "https://localhost:8080/"
        },
        "outputId": "24f5143a-c3aa-4b72-dcc4-0fa4f96cbfe5"
      },
      "execution_count": 24,
      "outputs": [
        {
          "output_type": "execute_result",
          "data": {
            "text/plain": [
              "10"
            ]
          },
          "metadata": {},
          "execution_count": 24
        }
      ]
    },
    {
      "cell_type": "code",
      "source": [
        "#Add a number to  variable a\n",
        "a+5"
      ],
      "metadata": {
        "id": "gnp3mAhNptIT",
        "colab": {
          "base_uri": "https://localhost:8080/"
        },
        "outputId": "ce121f75-2ecc-4f19-9990-fe711b747cb8"
      },
      "execution_count": 25,
      "outputs": [
        {
          "output_type": "execute_result",
          "data": {
            "text/plain": [
              "10"
            ]
          },
          "metadata": {},
          "execution_count": 25
        }
      ]
    },
    {
      "cell_type": "code",
      "source": [
        "#Change the value of variable a\n",
        "a = 10"
      ],
      "metadata": {
        "id": "k1Ktfy5zpxGD"
      },
      "execution_count": 26,
      "outputs": []
    },
    {
      "cell_type": "code",
      "source": [
        "#Multiply variable a by a number 7\n",
        "a*7"
      ],
      "metadata": {
        "id": "GjyRhdmZp0CL",
        "colab": {
          "base_uri": "https://localhost:8080/"
        },
        "outputId": "ff2df6e6-3f1b-4a8b-8fc1-a7578578b899"
      },
      "execution_count": 35,
      "outputs": [
        {
          "output_type": "execute_result",
          "data": {
            "text/plain": [
              "70"
            ]
          },
          "metadata": {},
          "execution_count": 35
        }
      ]
    },
    {
      "cell_type": "code",
      "source": [
        "#Add variables a and b.\n",
        "b = 7\n",
        "a + b"
      ],
      "metadata": {
        "id": "9H-7CW1ip3h0",
        "colab": {
          "base_uri": "https://localhost:8080/"
        },
        "outputId": "b5c50011-a826-4569-b95b-b23afbc8adb5"
      },
      "execution_count": 29,
      "outputs": [
        {
          "output_type": "execute_result",
          "data": {
            "text/plain": [
              "17"
            ]
          },
          "metadata": {},
          "execution_count": 29
        }
      ]
    },
    {
      "cell_type": "code",
      "source": [
        "#Store the value of 15 in variable b\n",
        "b = 15"
      ],
      "metadata": {
        "id": "slZb7lGIp7IE"
      },
      "execution_count": 30,
      "outputs": []
    },
    {
      "cell_type": "code",
      "source": [
        "#Create a new variable (total) and equate that to the value of a and b\n",
        "total = a + b"
      ],
      "metadata": {
        "id": "qddnYnrqqAC8"
      },
      "execution_count": 31,
      "outputs": []
    },
    {
      "cell_type": "code",
      "source": [
        "#What is the value of total\n",
        "total"
      ],
      "metadata": {
        "id": "sHtZkU_2qEPE",
        "colab": {
          "base_uri": "https://localhost:8080/"
        },
        "outputId": "6acc98b2-0c8a-461d-ad2a-ece7e1a534c3"
      },
      "execution_count": 32,
      "outputs": [
        {
          "output_type": "execute_result",
          "data": {
            "text/plain": [
              "25"
            ]
          },
          "metadata": {},
          "execution_count": 32
        }
      ]
    },
    {
      "cell_type": "code",
      "source": [
        "#Create a variable (new) and equate that to a string 'Stellenbosch'\n",
        "new = \"Stellembosch\""
      ],
      "metadata": {
        "id": "0LXK2ANnqHjs"
      },
      "execution_count": 33,
      "outputs": []
    },
    {
      "cell_type": "code",
      "source": [
        "#Add 5 to variable new\n",
        "new + 5"
      ],
      "metadata": {
        "id": "h5yVwN4SqQfF",
        "colab": {
          "base_uri": "https://localhost:8080/",
          "height": 158
        },
        "outputId": "60928668-d29d-4da7-d070-c40b3cb46ddd"
      },
      "execution_count": 42,
      "outputs": [
        {
          "output_type": "error",
          "ename": "TypeError",
          "evalue": "can only concatenate str (not \"int\") to str",
          "traceback": [
            "\u001b[0;31m---------------------------------------------------------------------------\u001b[0m",
            "\u001b[0;31mTypeError\u001b[0m                                 Traceback (most recent call last)",
            "\u001b[0;32m<ipython-input-42-7a59224911bb>\u001b[0m in \u001b[0;36m<cell line: 0>\u001b[0;34m()\u001b[0m\n\u001b[1;32m      1\u001b[0m \u001b[0;31m#Add 5 to variable new\u001b[0m\u001b[0;34m\u001b[0m\u001b[0;34m\u001b[0m\u001b[0m\n\u001b[0;32m----> 2\u001b[0;31m \u001b[0mnew\u001b[0m \u001b[0;34m+\u001b[0m \u001b[0;36m5\u001b[0m\u001b[0;34m\u001b[0m\u001b[0;34m\u001b[0m\u001b[0m\n\u001b[0m",
            "\u001b[0;31mTypeError\u001b[0m: can only concatenate str (not \"int\") to str"
          ]
        }
      ]
    },
    {
      "cell_type": "code",
      "source": [
        "#Multiply the variable new by a number\n",
        "new * 5"
      ],
      "metadata": {
        "id": "hvDhfd7tqVpb",
        "colab": {
          "base_uri": "https://localhost:8080/",
          "height": 36
        },
        "outputId": "2da45322-b809-4b61-cf68-24e45ae82735"
      },
      "execution_count": 43,
      "outputs": [
        {
          "output_type": "execute_result",
          "data": {
            "text/plain": [
              "'StellemboschStellemboschStellemboschStellemboschStellembosch'"
            ],
            "application/vnd.google.colaboratory.intrinsic+json": {
              "type": "string"
            }
          },
          "metadata": {},
          "execution_count": 43
        }
      ]
    },
    {
      "cell_type": "markdown",
      "source": [
        "**Class Exercise 1:**"
      ],
      "metadata": {
        "id": "uMDaL6b7qiCU"
      }
    },
    {
      "cell_type": "code",
      "source": [
        "#three new variables hourly_minimum_wage, hours_per_week, and weeks_per_year and equate them to\n",
        "#15, 40 and 52 respectively\n",
        "hourly_minimum_wage = 15\n",
        "hours_per_week = 40\n",
        "weeks_per_year = 52"
      ],
      "metadata": {
        "id": "ieynKEqNqi49"
      },
      "execution_count": 44,
      "outputs": []
    },
    {
      "cell_type": "code",
      "source": [
        "hourly_minimum_wage"
      ],
      "metadata": {
        "id": "FJM1GgXVrvVj",
        "colab": {
          "base_uri": "https://localhost:8080/"
        },
        "outputId": "3d4815ee-b513-4c39-8faa-7b9b6e8c11fd"
      },
      "execution_count": 45,
      "outputs": [
        {
          "output_type": "execute_result",
          "data": {
            "text/plain": [
              "15"
            ]
          },
          "metadata": {},
          "execution_count": 45
        }
      ]
    },
    {
      "cell_type": "code",
      "source": [
        "#Determine the number of working hours in a year, store it in a variable, and output that\n",
        "hours_per_year = hours_per_week*weeks_per_year"
      ],
      "metadata": {
        "id": "GI6mc44UsWmZ"
      },
      "execution_count": 46,
      "outputs": []
    },
    {
      "cell_type": "code",
      "source": [
        "hours_per_year"
      ],
      "metadata": {
        "colab": {
          "base_uri": "https://localhost:8080/"
        },
        "id": "ulEtL9JUh9SB",
        "outputId": "480be2c6-b9e0-44ce-a62f-20e919f522e3"
      },
      "execution_count": 49,
      "outputs": [
        {
          "output_type": "execute_result",
          "data": {
            "text/plain": [
              "2080"
            ]
          },
          "metadata": {},
          "execution_count": 49
        }
      ]
    },
    {
      "cell_type": "code",
      "source": [
        "#Determine the minimum earning per year\n",
        "minimum_earning_per_year = hourly_minimum_wage*hours_per_year"
      ],
      "metadata": {
        "id": "YUXgp7WCsepr"
      },
      "execution_count": 47,
      "outputs": []
    },
    {
      "cell_type": "code",
      "source": [
        "minimum_earning_per_year"
      ],
      "metadata": {
        "colab": {
          "base_uri": "https://localhost:8080/"
        },
        "id": "Mc6xptkKiBZn",
        "outputId": "64b17aae-21e2-4187-d08c-146badca1d68"
      },
      "execution_count": 50,
      "outputs": [
        {
          "output_type": "execute_result",
          "data": {
            "text/plain": [
              "31200"
            ]
          },
          "metadata": {},
          "execution_count": 50
        }
      ]
    },
    {
      "cell_type": "code",
      "source": [
        "#Determine the minimum earning per year using the original variables that were defined\n",
        "hourly_minimum_wage*hours_per_week*weeks_per_year"
      ],
      "metadata": {
        "id": "ujWLFo-Jsf1E",
        "colab": {
          "base_uri": "https://localhost:8080/"
        },
        "outputId": "ba664fc6-cd76-4fc6-a110-be58abe34947"
      },
      "execution_count": 48,
      "outputs": [
        {
          "output_type": "execute_result",
          "data": {
            "text/plain": [
              "31200"
            ]
          },
          "metadata": {},
          "execution_count": 48
        }
      ]
    },
    {
      "cell_type": "markdown",
      "source": [
        "## Arrays\n",
        "\n",
        "Arrays represent multiple data elements of the same type using a single name. An array is a special variable, which can hold more than one value at a time."
      ],
      "metadata": {
        "id": "pXPkmVSwspIL"
      }
    },
    {
      "cell_type": "code",
      "source": [
        "#np.array is used to create an array\n",
        "np.array([1, 2, 3, 4])"
      ],
      "metadata": {
        "id": "5AtRaAvyst0z",
        "colab": {
          "base_uri": "https://localhost:8080/"
        },
        "outputId": "902aa6f0-1bc3-4472-b667-cf8f565d7e8c"
      },
      "execution_count": 51,
      "outputs": [
        {
          "output_type": "execute_result",
          "data": {
            "text/plain": [
              "array([1, 2, 3, 4])"
            ]
          },
          "metadata": {},
          "execution_count": 51
        }
      ]
    },
    {
      "cell_type": "code",
      "source": [
        "#Equate the above array to A\n",
        "A = np.array([1, 2, 3, 4])"
      ],
      "metadata": {
        "id": "7N08RznCsyWt"
      },
      "execution_count": 52,
      "outputs": []
    },
    {
      "cell_type": "code",
      "source": [
        "#Multiply A by a number, what do you notice?\n",
        "A*5"
      ],
      "metadata": {
        "id": "isNL9INas2JD",
        "colab": {
          "base_uri": "https://localhost:8080/"
        },
        "outputId": "083b2eec-e0e0-4698-d539-6f4c221717f4"
      },
      "execution_count": 53,
      "outputs": [
        {
          "output_type": "execute_result",
          "data": {
            "text/plain": [
              "array([ 5, 10, 15, 20])"
            ]
          },
          "metadata": {},
          "execution_count": 53
        }
      ]
    },
    {
      "cell_type": "code",
      "source": [
        "#Add a number to A, what do you notice?\n",
        "A+10"
      ],
      "metadata": {
        "id": "pcPNksgYtGPr",
        "colab": {
          "base_uri": "https://localhost:8080/"
        },
        "outputId": "8eab0c99-e85f-49b3-af60-1985089d87cc"
      },
      "execution_count": 55,
      "outputs": [
        {
          "output_type": "execute_result",
          "data": {
            "text/plain": [
              "array([11, 12, 13, 14])"
            ]
          },
          "metadata": {},
          "execution_count": 55
        }
      ]
    },
    {
      "cell_type": "code",
      "source": [
        "#Use add the elements of A\n",
        "sum(A)"
      ],
      "metadata": {
        "id": "qIIHEdHntI_L",
        "colab": {
          "base_uri": "https://localhost:8080/"
        },
        "outputId": "9961e901-538d-44d8-be4e-0096ee650690"
      },
      "execution_count": 56,
      "outputs": [
        {
          "output_type": "execute_result",
          "data": {
            "text/plain": [
              "np.int64(10)"
            ]
          },
          "metadata": {},
          "execution_count": 56
        }
      ]
    },
    {
      "cell_type": "code",
      "source": [
        "A"
      ],
      "metadata": {
        "colab": {
          "base_uri": "https://localhost:8080/"
        },
        "id": "HrDTlbEamrzE",
        "outputId": "01d60158-904c-4ddd-aee5-102df42fc9fd"
      },
      "execution_count": 59,
      "outputs": [
        {
          "output_type": "execute_result",
          "data": {
            "text/plain": [
              "array([1, 2, 3, 4])"
            ]
          },
          "metadata": {},
          "execution_count": 59
        }
      ]
    },
    {
      "cell_type": "markdown",
      "source": [
        "**Class Exercise 2:**"
      ],
      "metadata": {
        "id": "q3kv8XTrtiWy"
      }
    },
    {
      "cell_type": "code",
      "source": [
        "#Create a new array with elements 11, 13, 15 and 17 and store it in variable B\n",
        "B = np.array([11,13,15,17])"
      ],
      "metadata": {
        "id": "xG0xDaUStkpr"
      },
      "execution_count": 57,
      "outputs": []
    },
    {
      "cell_type": "code",
      "source": [
        "#Add A and B, what do you notice?\n",
        "A+B"
      ],
      "metadata": {
        "id": "5-JB3vz_trwz",
        "colab": {
          "base_uri": "https://localhost:8080/"
        },
        "outputId": "0b338351-9088-422f-ac41-4deecd455625"
      },
      "execution_count": 58,
      "outputs": [
        {
          "output_type": "execute_result",
          "data": {
            "text/plain": [
              "array([12, 15, 18, 21])"
            ]
          },
          "metadata": {},
          "execution_count": 58
        }
      ]
    },
    {
      "cell_type": "code",
      "source": [
        "#Create a new variable a and equate that to number\n",
        "a = 22"
      ],
      "metadata": {
        "id": "pUj8uGl8tvk8"
      },
      "execution_count": 60,
      "outputs": []
    },
    {
      "cell_type": "code",
      "source": [
        "#Add a and B\n",
        "a+B"
      ],
      "metadata": {
        "id": "zDfXVCsotyt0",
        "colab": {
          "base_uri": "https://localhost:8080/"
        },
        "outputId": "caa64bf8-f510-4f2e-9125-cff70d84af2b"
      },
      "execution_count": 61,
      "outputs": [
        {
          "output_type": "execute_result",
          "data": {
            "text/plain": [
              "array([33, 35, 37, 39])"
            ]
          },
          "metadata": {},
          "execution_count": 61
        }
      ]
    },
    {
      "cell_type": "code",
      "source": [
        "#Create two variables a and b and equate that to 9 and 5.\n",
        "#Then create an array with the first element a+b and second element a*b\n",
        "a = 9\n",
        "b = 5\n",
        "np.array([a+b, a*b])\n"
      ],
      "metadata": {
        "id": "j02h5_l4t3FD",
        "colab": {
          "base_uri": "https://localhost:8080/"
        },
        "outputId": "ab8179bf-7c02-4001-f96a-83690f5fed47"
      },
      "execution_count": 63,
      "outputs": [
        {
          "output_type": "execute_result",
          "data": {
            "text/plain": [
              "array([14, 45])"
            ]
          },
          "metadata": {},
          "execution_count": 63
        }
      ]
    },
    {
      "cell_type": "code",
      "source": [
        "#Create a new array with elements 4, 5 and 7; and store it in variable C\n",
        "C = np.array([4,5,7])"
      ],
      "metadata": {
        "id": "L3lcXygut_m7"
      },
      "execution_count": 67,
      "outputs": []
    },
    {
      "cell_type": "code",
      "source": [
        "# Display A\n",
        "A"
      ],
      "metadata": {
        "id": "pM2S5ls6uRT9",
        "colab": {
          "base_uri": "https://localhost:8080/"
        },
        "outputId": "d1821b72-650c-4126-c9e0-9c5a2c16ad51"
      },
      "execution_count": 65,
      "outputs": [
        {
          "output_type": "execute_result",
          "data": {
            "text/plain": [
              "array([1, 2, 3, 4])"
            ]
          },
          "metadata": {},
          "execution_count": 65
        }
      ]
    },
    {
      "cell_type": "code",
      "source": [
        "# print A\n",
        "print(A)"
      ],
      "metadata": {
        "id": "14JNo2XluTez",
        "colab": {
          "base_uri": "https://localhost:8080/"
        },
        "outputId": "0ae3e2d4-4fc2-4b42-88f7-465759c86e6b"
      },
      "execution_count": 66,
      "outputs": [
        {
          "output_type": "stream",
          "name": "stdout",
          "text": [
            "[1 2 3 4]\n"
          ]
        }
      ]
    },
    {
      "cell_type": "code",
      "source": [
        "#Add A and C  .Be mindful of the error\n",
        "A+C"
      ],
      "metadata": {
        "id": "ajgoqkJruY3D",
        "colab": {
          "base_uri": "https://localhost:8080/",
          "height": 158
        },
        "outputId": "1d008f7d-5cb4-4998-a05a-715634749a86"
      },
      "execution_count": 68,
      "outputs": [
        {
          "output_type": "error",
          "ename": "ValueError",
          "evalue": "operands could not be broadcast together with shapes (4,) (3,) ",
          "traceback": [
            "\u001b[0;31m---------------------------------------------------------------------------\u001b[0m",
            "\u001b[0;31mValueError\u001b[0m                                Traceback (most recent call last)",
            "\u001b[0;32m<ipython-input-68-7bdf7a366057>\u001b[0m in \u001b[0;36m<cell line: 0>\u001b[0;34m()\u001b[0m\n\u001b[1;32m      1\u001b[0m \u001b[0;31m#Add A and C  .Be mindful of the error\u001b[0m\u001b[0;34m\u001b[0m\u001b[0;34m\u001b[0m\u001b[0m\n\u001b[0;32m----> 2\u001b[0;31m \u001b[0mA\u001b[0m\u001b[0;34m+\u001b[0m\u001b[0mC\u001b[0m\u001b[0;34m\u001b[0m\u001b[0;34m\u001b[0m\u001b[0m\n\u001b[0m",
            "\u001b[0;31mValueError\u001b[0m: operands could not be broadcast together with shapes (4,) (3,) "
          ]
        }
      ]
    },
    {
      "cell_type": "markdown",
      "source": [
        "## Create a basic array\n",
        "\n",
        "When it comes to creating a sequence of values, linspace and arange are two commonly used NumPy functions.\n",
        "\n",
        "Here is the subtle difference between the two functions:\n",
        "\n",
        "* linspace allows you to specify the number of steps\n",
        "* arange allows you to specify the size of the steps\n",
        "The following examples show how to use each function in practice."
      ],
      "metadata": {
        "id": "P14dxT3uudas"
      }
    },
    {
      "cell_type": "markdown",
      "source": [
        "### np.arange\n",
        "\n",
        "The np.arange() function uses the following basic syntax:\n",
        "\n",
        "np.arange(start, stop, step, …)\n",
        "\n",
        "where:\n",
        "\n",
        "* start: The starting value of the sequence\n",
        "* stop: The end value of the sequence\n",
        "* step: The spacing between values"
      ],
      "metadata": {
        "id": "8B8nliLIuj1j"
      }
    },
    {
      "cell_type": "code",
      "source": [
        "#np.arange can take in 1, 2 or 3 inputs. When it takes one input, it creates an array from 0 as the first element\n",
        "#with each subsequent element increasing by 1 until it reaches a number less than the input number.\n",
        "#Write an np.arange command with one input. Let that input be 7.\n",
        "\n",
        "np.arange(7)"
      ],
      "metadata": {
        "id": "aCgSBeLjuuws",
        "colab": {
          "base_uri": "https://localhost:8080/"
        },
        "outputId": "656b537d-d956-42f9-9a8e-42ecb160970c"
      },
      "execution_count": 69,
      "outputs": [
        {
          "output_type": "execute_result",
          "data": {
            "text/plain": [
              "array([0, 1, 2, 3, 4, 5, 6])"
            ]
          },
          "metadata": {},
          "execution_count": 69
        }
      ]
    },
    {
      "cell_type": "code",
      "source": [
        "#What if I wanted the array to start at 1 and end in the value of the input\n",
        "np.arange(7) + 1"
      ],
      "metadata": {
        "id": "vAGHXAvwu0TL",
        "colab": {
          "base_uri": "https://localhost:8080/"
        },
        "outputId": "1d7c3302-1682-423d-f9b1-6bcaba24ea50"
      },
      "execution_count": 71,
      "outputs": [
        {
          "output_type": "execute_result",
          "data": {
            "text/plain": [
              "array([1, 2, 3, 4, 5, 6, 7])"
            ]
          },
          "metadata": {},
          "execution_count": 71
        }
      ]
    },
    {
      "cell_type": "code",
      "source": [
        "#Let's try np.arange with two inputs seperated by a comma. The two inputs can be 1 and 8.\n",
        "np.arange(1,8)"
      ],
      "metadata": {
        "id": "sKcAhPPmu3I7",
        "colab": {
          "base_uri": "https://localhost:8080/"
        },
        "outputId": "bc690463-f412-4657-b5e4-938940fd7f70"
      },
      "execution_count": 72,
      "outputs": [
        {
          "output_type": "execute_result",
          "data": {
            "text/plain": [
              "array([1, 2, 3, 4, 5, 6, 7])"
            ]
          },
          "metadata": {},
          "execution_count": 72
        }
      ]
    },
    {
      "cell_type": "code",
      "source": [
        "# Create an array that starts with 200 and ends 211\n",
        "np.arange(200,212)"
      ],
      "metadata": {
        "id": "uTp7Hnmnu8WL",
        "colab": {
          "base_uri": "https://localhost:8080/"
        },
        "outputId": "39dcfd37-466c-4581-981e-88a88e98401a"
      },
      "execution_count": 73,
      "outputs": [
        {
          "output_type": "execute_result",
          "data": {
            "text/plain": [
              "array([200, 201, 202, 203, 204, 205, 206, 207, 208, 209, 210, 211])"
            ]
          },
          "metadata": {},
          "execution_count": 73
        }
      ]
    },
    {
      "cell_type": "code",
      "source": [
        "#Let's try np.arange with two inputs seperated by a comma. The two inputs can be 1 and 8.  np.arange(start, stop, step, …)\n",
        "np."
      ],
      "metadata": {
        "id": "IzBOJcknu_mT"
      },
      "execution_count": null,
      "outputs": []
    },
    {
      "cell_type": "code",
      "source": [
        "#Create two arrays using np.arange. The first array should use one input(5) and the second one using two inputs (10 and 13).\n",
        "#Now, use np.append with two inputs. The two inputs are the arrays from above.\n",
        "#What does np.append do\n",
        "\n"
      ],
      "metadata": {
        "id": "0st-jOMXvDFT"
      },
      "execution_count": null,
      "outputs": []
    },
    {
      "cell_type": "code",
      "source": [
        "### np.linspace\n",
        "\n",
        "The np.linspace() function uses the following basic syntax:\n",
        "\n",
        "np.linspace(start, stop, num, …)\n",
        "\n",
        "where:\n",
        "\n",
        "* start: The starting value of the sequence\n",
        "* stop: The end value of the sequence\n",
        "* num: the number of values to generate"
      ],
      "metadata": {
        "id": "OB5Fbfo3vGor"
      },
      "execution_count": null,
      "outputs": []
    },
    {
      "cell_type": "code",
      "source": [
        "#create sequence of 11 evenly spaced values between 0 and 20\n"
      ],
      "metadata": {
        "id": "qUWGaQ3UvMNT"
      },
      "execution_count": null,
      "outputs": []
    },
    {
      "cell_type": "code",
      "source": [
        "a = np.linspace(0, 10, 3)\n",
        "print(a)"
      ],
      "metadata": {
        "id": "0SVRwhd6vW1L"
      },
      "execution_count": null,
      "outputs": []
    },
    {
      "cell_type": "code",
      "source": [
        "print(a.dtype)\n"
      ],
      "metadata": {
        "id": "GH341rYhvh-T"
      },
      "execution_count": null,
      "outputs": []
    },
    {
      "cell_type": "code",
      "source": [
        "# Change the dtype to int\n",
        "a_int = np.linspace(0, 10, 3, dtype=int)"
      ],
      "metadata": {
        "id": "tLGOhDOvvhxz"
      },
      "execution_count": null,
      "outputs": []
    },
    {
      "cell_type": "code",
      "source": [
        "#print(a_int.dtype)\n",
        "\n"
      ],
      "metadata": {
        "id": "wNq9PdZx0Atq"
      },
      "execution_count": null,
      "outputs": []
    },
    {
      "cell_type": "markdown",
      "source": [
        "\n",
        "**Class Exercise 3**:\n",
        "\n",
        "Create an array that ranges from 3 to 10 (inclusive). Another from 13 to 20 (inclusive). Add the two arrays."
      ],
      "metadata": {
        "id": "nXqPUGwz01m7"
      }
    },
    {
      "cell_type": "code",
      "source": [],
      "metadata": {
        "id": "HVnNN-V4047C"
      },
      "execution_count": null,
      "outputs": []
    },
    {
      "cell_type": "markdown",
      "source": [
        "Generate a reverse order array with np.arange() from 9 to 2 with a step size of 2"
      ],
      "metadata": {
        "id": "wEicrSCR1Awh"
      }
    },
    {
      "cell_type": "code",
      "source": [],
      "metadata": {
        "id": "Qr8CcFrZ1DdK"
      },
      "execution_count": null,
      "outputs": []
    },
    {
      "cell_type": "markdown",
      "source": [
        "# TAKE-HOME EXERCISE 1\n",
        "\n",
        "**Complete the following take-home exercise for the next workshop session:**\n",
        "\n",
        "You have a class of 10 students. Each student has completed two tests and one exam. The total scores for the tests were 70 and 80 respectively and the total score for the exam was 120. Test one and two each make up 25% of the final mark for the module, while the exam makes up the rest.\n",
        "\n",
        "The scores for the students, out ouf their respective totals, are as follows...\n",
        "\n",
        "For test 1 = 65, 63, 68, 40, 55, 43, 69, 52, 51, 48\n",
        "\n",
        "For test 2 = 77, 79, 70, 35, 50, 46, 80, 56, 56, 52\n",
        "\n",
        "For the exam = 110, 109, 100, 55, 60, 61, 115, 96, 99, 75\n",
        "\n",
        "\n",
        "Make use of arrays to caclulate the following:\n",
        "1.   The final mark (%) of each student.\n",
        "2.   The class average (%) for each assesment as well as for the module.\n",
        "3.   BONUS: Give the hightest and lowest final marks for the module (use Google).\n",
        "\n"
      ],
      "metadata": {
        "id": "bcpiF0IH1URT"
      }
    },
    {
      "cell_type": "markdown",
      "source": [
        "# Tables\n",
        "\n",
        "Tables are a fundamental object type for representing data sets. A table can be viewed in two ways:\n",
        "\n",
        "* a sequence of named columns (i.e features or attributes) that each describe a single aspect of all entries in a data set, or\n",
        "\n",
        "* a sequence of rows (data points or data instances) that each contain all information about a single entry in a data set....."
      ],
      "metadata": {
        "id": "phWRwMlj1cq7"
      }
    },
    {
      "cell_type": "code",
      "source": [
        "#Upload olympics2024.csv file\n",
        "from google.colab import files\n",
        "uploaded = files.upload()"
      ],
      "metadata": {
        "id": "5XFpiNU21jga"
      },
      "execution_count": null,
      "outputs": []
    },
    {
      "cell_type": "code",
      "source": [
        "#Read the file into a table called olympics\n"
      ],
      "metadata": {
        "id": "ItoBw0wb117D"
      },
      "execution_count": null,
      "outputs": []
    },
    {
      "cell_type": "code",
      "source": [
        "#Output the table, olympics to the screen\n"
      ],
      "metadata": {
        "id": "NEZzmeZm16QT"
      },
      "execution_count": null,
      "outputs": []
    },
    {
      "cell_type": "code",
      "source": [
        "#Show only the top three rows of the table\n"
      ],
      "metadata": {
        "id": "y4NZX-S52Fzz"
      },
      "execution_count": null,
      "outputs": []
    },
    {
      "cell_type": "code",
      "source": [
        "#Show only the top ten rows of the table\n"
      ],
      "metadata": {
        "id": "7WJK7EEu2Jos"
      },
      "execution_count": null,
      "outputs": []
    },
    {
      "cell_type": "code",
      "source": [
        "#Show all rows of the table excluding the last 10\n"
      ],
      "metadata": {
        "id": "vZrDK2JA2Kx7"
      },
      "execution_count": null,
      "outputs": []
    },
    {
      "cell_type": "code",
      "source": [
        "#Show only the last five rows of the table\n"
      ],
      "metadata": {
        "id": "OOhTBrkI2OCr"
      },
      "execution_count": null,
      "outputs": []
    },
    {
      "cell_type": "code",
      "source": [
        "#Show only the last ten rows of the table\n"
      ],
      "metadata": {
        "id": "qAyeiIZN2RsU"
      },
      "execution_count": null,
      "outputs": []
    },
    {
      "cell_type": "code",
      "source": [],
      "metadata": {
        "id": "pdcmzQPY2U_T"
      },
      "execution_count": null,
      "outputs": []
    }
  ]
}