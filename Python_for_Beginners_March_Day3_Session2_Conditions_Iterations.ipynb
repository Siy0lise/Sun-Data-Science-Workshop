{
  "nbformat": 4,
  "nbformat_minor": 0,
  "metadata": {
    "colab": {
      "provenance": [],
      "include_colab_link": true
    },
    "kernelspec": {
      "name": "python3",
      "display_name": "Python 3"
    },
    "language_info": {
      "name": "python"
    }
  },
  "cells": [
    {
      "cell_type": "markdown",
      "metadata": {
        "id": "view-in-github",
        "colab_type": "text"
      },
      "source": [
        "<a href=\"https://colab.research.google.com/github/Siy0lise/Sun-Data-Science-Workshop/blob/main/Python_for_Beginners_March_Day3_Session2_Conditions_Iterations.ipynb\" target=\"_parent\"><img src=\"https://colab.research.google.com/assets/colab-badge.svg\" alt=\"Open In Colab\"/></a>"
      ]
    },
    {
      "cell_type": "markdown",
      "source": [
        "**Conditionals and Iterations**\n",
        "\n",
        "A conditional statement is one where an action is performed if a prespecified condition is satisfied and another or no action is performed if the condition is not satisfied.\n",
        "\n",
        "Conditional statements are an easy way to take different actions based on some condition being fulfilled or not.\n",
        "\n",
        "In Python, we use the *if* statement for the conditional statement.\n",
        "\n",
        "An iteration is a set of statement that is repeated multiple times.\n",
        "\n",
        "Iteration will repeat a set of code and perform some action multiple times.\n",
        "\n",
        "In Python, we use *for* statement for the iteration instruction.\n"
      ],
      "metadata": {
        "id": "4S5Hr58nHVDB"
      }
    },
    {
      "cell_type": "markdown",
      "source": [
        "**Advantages:**\n",
        "\n",
        "* Simplifies coding.\n",
        "\n",
        "* Readability.\n",
        "\n",
        "* Efficiency in memory utilization."
      ],
      "metadata": {
        "id": "P8h2hZekOnOU"
      }
    },
    {
      "cell_type": "code",
      "execution_count": 1,
      "metadata": {
        "id": "LPUxRvlxuU1x"
      },
      "outputs": [],
      "source": [
        "#These are libraries that you should import if needed for your notebook.\n",
        "#import libraries\n",
        "import pandas as pd\n",
        "import seaborn as sns\n",
        "import numpy as np\n",
        "%matplotlib inline\n",
        "import matplotlib.pyplot as plots\n",
        "plots.style.use('fivethirtyeight')\n",
        "from google.colab import files"
      ]
    },
    {
      "cell_type": "markdown",
      "source": [
        "## Conditional Statements"
      ],
      "metadata": {
        "id": "LQePVcXOQgAm"
      }
    },
    {
      "cell_type": "markdown",
      "source": [
        "**if statement**"
      ],
      "metadata": {
        "id": "h8inKl58TKeN"
      }
    },
    {
      "cell_type": "code",
      "source": [
        "#Toss a coin.\n",
        "coin = np.random.choice(['heads','tails'])"
      ],
      "metadata": {
        "id": "fmthIGDsPlAz"
      },
      "execution_count": 2,
      "outputs": []
    },
    {
      "cell_type": "code",
      "source": [
        "#what is the value of coin\n",
        "coin"
      ],
      "metadata": {
        "id": "DXt2LQkvQv-_",
        "colab": {
          "base_uri": "https://localhost:8080/",
          "height": 36
        },
        "outputId": "6375239d-5987-4b5c-8f46-626ea9993476"
      },
      "execution_count": 6,
      "outputs": [
        {
          "output_type": "execute_result",
          "data": {
            "text/plain": [
              "'heads'"
            ],
            "application/vnd.google.colaboratory.intrinsic+json": {
              "type": "string"
            }
          },
          "metadata": {},
          "execution_count": 6
        }
      ]
    },
    {
      "cell_type": "code",
      "source": [
        "#If the coin lands on heads, Marike wins.\n",
        "if coin == 'heads':\n",
        "  print('Marike wins!')"
      ],
      "metadata": {
        "id": "1XEl9j3tfxu1",
        "colab": {
          "base_uri": "https://localhost:8080/"
        },
        "outputId": "0ce3723e-9cd2-4b9d-c7c5-28402ece6a4e"
      },
      "execution_count": 7,
      "outputs": [
        {
          "output_type": "stream",
          "name": "stdout",
          "text": [
            "Marike wins!\n"
          ]
        }
      ]
    },
    {
      "cell_type": "markdown",
      "source": [
        "**if-else statement**"
      ],
      "metadata": {
        "id": "K3ZmuKFif1Dx"
      }
    },
    {
      "cell_type": "code",
      "source": [
        "#If the coin lands on heads, Marike wins. If the coin lands on tail, Sunday wins.\n",
        "coin = 'heads'\n",
        "if coin == 'heads':\n",
        "  print('Marike wins!')\n",
        "else:\n",
        "  print('Sunday wins!')"
      ],
      "metadata": {
        "id": "Y5lHimcHQySQ",
        "colab": {
          "base_uri": "https://localhost:8080/"
        },
        "outputId": "65fe4d51-5574-4aa1-c799-9d47b4429e7d"
      },
      "execution_count": 5,
      "outputs": [
        {
          "output_type": "stream",
          "name": "stdout",
          "text": [
            "Marike wins!\n"
          ]
        }
      ]
    },
    {
      "cell_type": "code",
      "source": [
        "#let's put the toss and the conditional statement together\n",
        "coin = np.random.choice(['heads','tails'])\n",
        "if coin == 'heads':\n",
        "  print('Marike wins!')\n",
        "else:\n",
        "  print('Sunday wins!')"
      ],
      "metadata": {
        "id": "nuKOmGVyQ3ui",
        "colab": {
          "base_uri": "https://localhost:8080/"
        },
        "outputId": "ed7c8b5b-0fb2-4f3e-fdf3-51ac9c1e19d6"
      },
      "execution_count": null,
      "outputs": [
        {
          "output_type": "stream",
          "name": "stdout",
          "text": [
            "Sunday wins!\n"
          ]
        }
      ]
    },
    {
      "cell_type": "markdown",
      "source": [
        "Everytime we want to run the above code, we could just press run. This is tiring."
      ],
      "metadata": {
        "id": "RJatTGIXTEEB"
      }
    },
    {
      "cell_type": "markdown",
      "source": [
        "**if-elif-else statement**"
      ],
      "metadata": {
        "id": "goWrk_JiSSOM"
      }
    },
    {
      "cell_type": "code",
      "source": [
        "#generate a random number between 1 and 6 (inclusive). It's like rolling a dice.\n",
        "dice_throw = np.random.randint(1,7)\n",
        "dice_throw"
      ],
      "metadata": {
        "id": "-y7EhzkoRhOT",
        "colab": {
          "base_uri": "https://localhost:8080/"
        },
        "outputId": "8eb1c177-f71a-48da-a333-d83cf2bd8e68"
      },
      "execution_count": 16,
      "outputs": [
        {
          "output_type": "execute_result",
          "data": {
            "text/plain": [
              "5"
            ]
          },
          "metadata": {},
          "execution_count": 16
        }
      ]
    },
    {
      "cell_type": "code",
      "source": [
        "#let's create a conditional statement where if the random number is less than or equal to 3, Marike wins.\n",
        "#If the number is equal to 4 or 5, Kanshu wins.\n",
        "#If it is equal to 6, the Sunday wins.\n",
        "if dice_throw <= 3:\n",
        "  print('Marike wins!')\n",
        "elif dice_throw == 4 or dice_throw ==5:\n",
        "  print('Kanshu wins!')\n",
        "else:\n",
        "  print('Sunday wins!')"
      ],
      "metadata": {
        "id": "VqqxR7poSCj9",
        "colab": {
          "base_uri": "https://localhost:8080/"
        },
        "outputId": "108719f3-ef5f-4d7f-f100-e5853893c605"
      },
      "execution_count": 17,
      "outputs": [
        {
          "output_type": "stream",
          "name": "stdout",
          "text": [
            "Kanshu wins!\n"
          ]
        }
      ]
    },
    {
      "cell_type": "code",
      "source": [
        "#Let's put it all together\n",
        "dice_throw = np.random.randint(1,7)\n",
        "if dice_throw <= 3:\n",
        "  print('Marike wins!')\n",
        "elif dice_throw == 4 or dice_throw ==5:\n",
        "  print('Kanshu wins!')\n",
        "elif dice_throw == 6:\n",
        "  print('Sunday wins!')\n",
        "\n",
        "print(dice_throw)"
      ],
      "metadata": {
        "id": "UqXYXK5OSzgj",
        "colab": {
          "base_uri": "https://localhost:8080/"
        },
        "outputId": "8535b033-d5a5-43ee-fb26-6fea71d6b191"
      },
      "execution_count": 18,
      "outputs": [
        {
          "output_type": "stream",
          "name": "stdout",
          "text": [
            "Marike wins!\n",
            "3\n"
          ]
        }
      ]
    },
    {
      "cell_type": "markdown",
      "source": [
        "**We could replace the last elif with else as a catch all condition, that must be run if no former conditions are fulfilled.**"
      ],
      "metadata": {
        "id": "iKZK28AITyya"
      }
    },
    {
      "cell_type": "code",
      "source": [
        "#Let's put it all together\n",
        "dice_throw = np.random.randint(1,7)\n",
        "if dice_throw <= 3:\n",
        "  print('Marike wins!')\n",
        "elif dice_throw == 4 or dice_throw ==5:\n",
        "  print('Kanshu wins!')\n",
        "else:\n",
        "  print('Sunday wins!')"
      ],
      "metadata": {
        "id": "vtzKR-d1T7Hy",
        "colab": {
          "base_uri": "https://localhost:8080/"
        },
        "outputId": "1eff68d3-dec6-4e38-b7ad-a2900d9cba77"
      },
      "execution_count": null,
      "outputs": [
        {
          "output_type": "stream",
          "name": "stdout",
          "text": [
            "Marike wins!\n"
          ]
        }
      ]
    },
    {
      "cell_type": "markdown",
      "source": [
        "**Everytime I want to run the code above, I click on the run button again and again. This is tiring.**"
      ],
      "metadata": {
        "id": "TphHlwO2TQ1T"
      }
    },
    {
      "cell_type": "markdown",
      "source": [
        "**Nested if statements**"
      ],
      "metadata": {
        "id": "lGfMPY7QgORO"
      }
    },
    {
      "cell_type": "code",
      "source": [
        "#Roll a dice. If the number is less than 3, Marike wins.\n",
        "#If greater than 3, then a coin is tossed and if the coin is heads, then Kanshu wins, else Sunday wins.\n",
        "\n",
        "dice_throw = np.random.randint(1,7)\n",
        "if dice_throw <= 3:\n",
        "  print('Marike wins!')\n",
        "else:\n",
        "  coin = np.random.choice(['heads','tails'])\n",
        "  if coin == 'heads':\n",
        "    print('Kanshu wins!')\n",
        "  else:\n",
        "    print('Sunday wins!')\n"
      ],
      "metadata": {
        "id": "0mVz81fegQt4",
        "colab": {
          "base_uri": "https://localhost:8080/"
        },
        "outputId": "71194119-c16b-4694-80bd-53331800ca4e"
      },
      "execution_count": 19,
      "outputs": [
        {
          "output_type": "stream",
          "name": "stdout",
          "text": [
            "Marike wins!\n"
          ]
        }
      ]
    },
    {
      "cell_type": "code",
      "source": [
        "dice_throw = np.random.randint(1,7)\n",
        "if dice_throw >= 4:\n",
        "  coin = np.random.choice(['heads','tails'])\n",
        "  if coin == 'heads':\n",
        "    print('Kanshu wins!')\n",
        "  else:\n",
        "    print('Sunday wins!')\n",
        "else:\n",
        "  print('Marike wins!')\n",
        "\n",
        "\n",
        "print(dice_throw)"
      ],
      "metadata": {
        "colab": {
          "base_uri": "https://localhost:8080/"
        },
        "id": "t6p6GHvPHcHA",
        "outputId": "287cf4d1-71d9-49a5-e36d-1aa081edcc93"
      },
      "execution_count": 20,
      "outputs": [
        {
          "output_type": "stream",
          "name": "stdout",
          "text": [
            "Sunday wins!\n",
            "4\n"
          ]
        }
      ]
    },
    {
      "cell_type": "markdown",
      "source": [
        "## Iterations"
      ],
      "metadata": {
        "id": "d13-GN0sURiR"
      }
    },
    {
      "cell_type": "markdown",
      "source": [
        "Iterations allows us to repeat code multiple times.\n",
        "\n"
      ],
      "metadata": {
        "id": "nPYSpWYoUUY3"
      }
    },
    {
      "cell_type": "code",
      "source": [
        "#Remember np.arange(1,7)\n",
        "np.arange(1,7)"
      ],
      "metadata": {
        "id": "QW5Vr7MIU-h8",
        "colab": {
          "base_uri": "https://localhost:8080/"
        },
        "outputId": "8cc71156-aaa2-4254-9d57-9423e4776c6e"
      },
      "execution_count": null,
      "outputs": [
        {
          "output_type": "execute_result",
          "data": {
            "text/plain": [
              "array([1, 2, 3, 4, 5, 6])"
            ]
          },
          "metadata": {},
          "execution_count": 55
        }
      ]
    },
    {
      "cell_type": "code",
      "source": [
        "#Let's write a for statement\n",
        "for i in np.arange(1,7):\n",
        "  print(i)"
      ],
      "metadata": {
        "id": "ZAJvwR1AUgnz",
        "colab": {
          "base_uri": "https://localhost:8080/"
        },
        "outputId": "cc6b32dc-7bf0-47c5-ae9a-97a04df51a62"
      },
      "execution_count": null,
      "outputs": [
        {
          "output_type": "stream",
          "name": "stdout",
          "text": [
            "1\n",
            "2\n",
            "3\n",
            "4\n",
            "5\n",
            "6\n"
          ]
        }
      ]
    },
    {
      "cell_type": "code",
      "source": [
        "#what if we use np.arange(5,9)\n",
        "for i in np.arange(5,9):\n",
        "  print(i)"
      ],
      "metadata": {
        "id": "LgMVFs43VJ5D",
        "colab": {
          "base_uri": "https://localhost:8080/"
        },
        "outputId": "dac7e2a8-c387-4b30-cd99-d57b31e16157"
      },
      "execution_count": null,
      "outputs": [
        {
          "output_type": "stream",
          "name": "stdout",
          "text": [
            "5\n",
            "6\n",
            "7\n",
            "8\n"
          ]
        }
      ]
    },
    {
      "cell_type": "code",
      "source": [
        "#What if we put strings in the array\n",
        "for i in ['Sunday','Marike','Kanshu']:\n",
        "  print(i)"
      ],
      "metadata": {
        "id": "vrm2myE2VZ2O",
        "colab": {
          "base_uri": "https://localhost:8080/"
        },
        "outputId": "f78d3d0d-26ab-4c16-88b2-ede1a5752a47"
      },
      "execution_count": null,
      "outputs": [
        {
          "output_type": "stream",
          "name": "stdout",
          "text": [
            "Sunday\n",
            "Marike\n",
            "Kanshu\n"
          ]
        }
      ]
    },
    {
      "cell_type": "code",
      "source": [
        "#Let's generate multiple throws of dice\n",
        "np.random.randint(1,7,10) #repeat it 10 times"
      ],
      "metadata": {
        "id": "X0k6jLXdWGWh",
        "colab": {
          "base_uri": "https://localhost:8080/"
        },
        "outputId": "5072dbfc-1537-45a3-a4c5-11300c2f5428"
      },
      "execution_count": 21,
      "outputs": [
        {
          "output_type": "execute_result",
          "data": {
            "text/plain": [
              "array([3, 5, 1, 6, 5, 3, 6, 4, 4, 2])"
            ]
          },
          "metadata": {},
          "execution_count": 21
        }
      ]
    },
    {
      "cell_type": "code",
      "source": [
        "#Now we want to use these numbers to determine whether Marike, Kanshu or Sunday won based on the conditions given earlier\n",
        "throws = np.random.randint(1,7,10)\n",
        "for i in throws:\n",
        "  if i <= 3:\n",
        "    print('Marike wins!')\n",
        "  elif i == 4 or i ==5:\n",
        "    print('Kanshu wins!')\n",
        "  else:\n",
        "    print('Sunday wins!')"
      ],
      "metadata": {
        "id": "EBmS9YtmWa2g",
        "colab": {
          "base_uri": "https://localhost:8080/"
        },
        "outputId": "f62da347-3b5a-4ccf-ec1d-c5a47d1f7656"
      },
      "execution_count": 22,
      "outputs": [
        {
          "output_type": "stream",
          "name": "stdout",
          "text": [
            "Marike wins!\n",
            "Sunday wins!\n",
            "Marike wins!\n",
            "Kanshu wins!\n",
            "Kanshu wins!\n",
            "Marike wins!\n",
            "Sunday wins!\n",
            "Marike wins!\n",
            "Kanshu wins!\n",
            "Kanshu wins!\n"
          ]
        }
      ]
    },
    {
      "cell_type": "code",
      "source": [
        "#Let's create an array with the results\n",
        "results = []\n",
        "throws = np.random.randint(1,7,10)\n",
        "for i in throws:\n",
        "  if i <= 3:\n",
        "    ans = 'Marike'\n",
        "  elif i == 4 or i ==5:\n",
        "    ans = 'Kanshu'\n",
        "  else:\n",
        "    ans = 'Sunday'\n",
        "\n",
        "  results.append(ans) #adding to array\n",
        "\n",
        "print(results)"
      ],
      "metadata": {
        "id": "IE0Vy1C_W34v",
        "colab": {
          "base_uri": "https://localhost:8080/"
        },
        "outputId": "3b631e3c-cfa6-491c-d42d-cb7691875f77"
      },
      "execution_count": 23,
      "outputs": [
        {
          "output_type": "stream",
          "name": "stdout",
          "text": [
            "['Sunday', 'Kanshu', 'Sunday', 'Kanshu', 'Marike', 'Marike', 'Marike', 'Kanshu', 'Kanshu', 'Sunday']\n"
          ]
        }
      ]
    },
    {
      "cell_type": "code",
      "source": [
        "#Let's make this neater\n",
        "results.count('Sunday')"
      ],
      "metadata": {
        "id": "wCoDBtGTXT9D",
        "colab": {
          "base_uri": "https://localhost:8080/"
        },
        "outputId": "01a6884c-b0b0-4970-b678-fe60ad1cf05d"
      },
      "execution_count": 24,
      "outputs": [
        {
          "output_type": "execute_result",
          "data": {
            "text/plain": [
              "3"
            ]
          },
          "metadata": {},
          "execution_count": 24
        }
      ]
    },
    {
      "cell_type": "code",
      "source": [
        "#how many times did Kanshu win\n",
        "results.count('Kanshu')"
      ],
      "metadata": {
        "id": "MyOL7SfYWjij",
        "colab": {
          "base_uri": "https://localhost:8080/"
        },
        "outputId": "3ec92f73-88ce-4873-fbb4-1278dd5821a3"
      },
      "execution_count": 25,
      "outputs": [
        {
          "output_type": "execute_result",
          "data": {
            "text/plain": [
              "4"
            ]
          },
          "metadata": {},
          "execution_count": 25
        }
      ]
    },
    {
      "cell_type": "code",
      "source": [
        "#how many times did Marike win\n",
        "#how many times did Sunday win\n",
        "[results.count('Marike'), results.count('Sunday')]\n"
      ],
      "metadata": {
        "id": "f9PgRsoCX3G1",
        "colab": {
          "base_uri": "https://localhost:8080/"
        },
        "outputId": "c0cefb62-2b73-46e7-f9b3-30a74bf4ea9a"
      },
      "execution_count": 27,
      "outputs": [
        {
          "output_type": "execute_result",
          "data": {
            "text/plain": [
              "[3, 3]"
            ]
          },
          "metadata": {},
          "execution_count": 27
        }
      ]
    },
    {
      "cell_type": "code",
      "source": [
        "results.count(4)"
      ],
      "metadata": {
        "colab": {
          "base_uri": "https://localhost:8080/"
        },
        "id": "fdHIM0QO1GL0",
        "outputId": "7e2f450b-6d62-4ebe-d4ef-c5a4946a7bab"
      },
      "execution_count": 28,
      "outputs": [
        {
          "output_type": "execute_result",
          "data": {
            "text/plain": [
              "0"
            ]
          },
          "metadata": {},
          "execution_count": 28
        }
      ]
    },
    {
      "cell_type": "code",
      "source": [
        "results[4]"
      ],
      "metadata": {
        "colab": {
          "base_uri": "https://localhost:8080/",
          "height": 36
        },
        "id": "OfOvPUOx1Rat",
        "outputId": "c9938f80-5c0e-47a2-e937-4546c8570d29"
      },
      "execution_count": 29,
      "outputs": [
        {
          "output_type": "execute_result",
          "data": {
            "text/plain": [
              "'Marike'"
            ],
            "application/vnd.google.colaboratory.intrinsic+json": {
              "type": "string"
            }
          },
          "metadata": {},
          "execution_count": 29
        }
      ]
    },
    {
      "cell_type": "markdown",
      "source": [
        "**While loop basics**"
      ],
      "metadata": {
        "id": "rRN3XkCphAb3"
      }
    },
    {
      "cell_type": "code",
      "source": [
        "#i = 1. Run a loop such that while i is less than 5, print i\n",
        "i = 1\n",
        "while i < 5:\n",
        "  print(i)\n",
        "  i = i + 1"
      ],
      "metadata": {
        "id": "kwU9dPHZhGVw",
        "colab": {
          "base_uri": "https://localhost:8080/"
        },
        "outputId": "6b83c8d4-3f30-44e4-feca-619650002269"
      },
      "execution_count": null,
      "outputs": [
        {
          "output_type": "stream",
          "name": "stdout",
          "text": [
            "1\n",
            "2\n",
            "3\n",
            "4\n"
          ]
        }
      ]
    },
    {
      "cell_type": "code",
      "source": [
        "#Let's look at someone to decide whether they can vote or not. Voting age is 18.\n",
        "age = 1\n",
        "while age <21:\n",
        "  if age >= 18:\n",
        "    print('You can vote!')\n",
        "  else:\n",
        "    print('You cannot vote!')\n",
        "\n",
        "  age = age + 1"
      ],
      "metadata": {
        "colab": {
          "base_uri": "https://localhost:8080/"
        },
        "id": "9SZtbDrdOmmA",
        "outputId": "78f4dff5-6632-479e-e38b-e0419036e2ee"
      },
      "execution_count": null,
      "outputs": [
        {
          "output_type": "stream",
          "name": "stdout",
          "text": [
            "You cannot vote!\n",
            "You cannot vote!\n",
            "You cannot vote!\n",
            "You cannot vote!\n",
            "You cannot vote!\n",
            "You cannot vote!\n",
            "You cannot vote!\n",
            "You cannot vote!\n",
            "You cannot vote!\n",
            "You cannot vote!\n",
            "You cannot vote!\n",
            "You cannot vote!\n",
            "You cannot vote!\n",
            "You cannot vote!\n",
            "You cannot vote!\n",
            "You cannot vote!\n",
            "You cannot vote!\n",
            "You can vote!\n",
            "You can vote!\n",
            "You can vote!\n"
          ]
        }
      ]
    },
    {
      "cell_type": "markdown",
      "source": [
        "**break statement**\n"
      ],
      "metadata": {
        "id": "wyCrjqzohSZi"
      }
    },
    {
      "cell_type": "code",
      "source": [
        "#Let's see how we can exit a for loop\n",
        "for i in np.arange(1,10):\n",
        "  if i == 5:\n",
        "    break\n",
        "  print(i)"
      ],
      "metadata": {
        "id": "rXiRpnNThUDg",
        "colab": {
          "base_uri": "https://localhost:8080/"
        },
        "outputId": "986f04e2-8d33-4529-a8e2-96a8d919d19f"
      },
      "execution_count": null,
      "outputs": [
        {
          "output_type": "stream",
          "name": "stdout",
          "text": [
            "1\n",
            "2\n",
            "3\n",
            "4\n"
          ]
        }
      ]
    },
    {
      "cell_type": "markdown",
      "source": [
        "## Exercise"
      ],
      "metadata": {
        "id": "wbcr2sxhYZXl"
      }
    },
    {
      "cell_type": "markdown",
      "source": [
        "Suppose you toss a coin and throw a dice. If the coin lands on heads and the dice is less than or equal to 3, Kanshu wins. If the coin lands on heads and dice is greater than 3, Sunday win. If the coin lands on tails and the dice is equal to 1, Sunday wins. If the coin lands on tails and the dice is greater than or equal to 2, Marike win.\n",
        "\n",
        "Run the above simulation 100 times and count the number of times that each person wins."
      ],
      "metadata": {
        "id": "xnJhF8jrYffR"
      }
    }
  ]
}